{
 "cells": [
  {
   "cell_type": "code",
   "execution_count": 14,
   "metadata": {},
   "outputs": [
    {
     "name": "stdout",
     "output_type": "stream",
     "text": [
      "4438.622823297785 324.75062740509065\n"
     ]
    }
   ],
   "source": [
    "import numpy as np\n",
    "def GET():\n",
    "    toto=np.load ('data.npy')\n",
    "    b=toto[:,0]\n",
    "    A=np.copy(toto)\n",
    "    A[:,0]=1\n",
    "    return A,b\n",
    "A,b=GET()\n",
    "print(np.linalg.norm(A),np.linalg.norm(b))"
   ]
  },
  {
   "cell_type": "code",
   "execution_count": 32,
   "metadata": {},
   "outputs": [
    {
     "name": "stdout",
     "output_type": "stream",
     "text": [
      "Testf () 7733636.118318959\n",
      "TestGradf (14,) 17319676.346308164\n",
      "TestHessf (14, 14) 19592934.364495266\n"
     ]
    }
   ],
   "source": [
    "def f(x) :\n",
    "    A,b=GET()\n",
    "    evalf=0.5*np.dot(A.dot(x)-b,A.dot(x)-b)\n",
    "    return evalf\n",
    "def gradf(x) :\n",
    "    gradf=A.T.dot(A.dot(x)-b)\n",
    "    return gradf\n",
    "def Hessf(x) :\n",
    "    Hf=A.T.dot(A)\n",
    "    return Hf\n",
    "A,b=GET()\n",
    "n=14\n",
    "np.random.seed(10)\n",
    "y=np.random.randn(n)\n",
    "print('Testf',f(y).shape,np.linalg.norm(f(y)))\n",
    "print('TestGradf',gradf(y).shape,np.linalg.norm(gradf(y)))\n",
    "print('TestHessf',Hessf(y).shape,np.linalg.norm(Hessf(y)))"
   ]
  },
  {
   "cell_type": "code",
   "execution_count": 36,
   "metadata": {},
   "outputs": [
    {
     "name": "stdout",
     "output_type": "stream",
     "text": [
      "LS 15.406516264082294 1892.567873806654\n"
     ]
    }
   ],
   "source": [
    "import numpy.linalg as npl\n",
    "def least_square(A,b) :\n",
    "    x=npl.solve(A.T.dot(A),A.T.dot(b))\n",
    "    return x\n",
    "A,b=GET()\n",
    "x=least_square(A,b)\n",
    "print('LS',np.linalg.norm(x),f(x))\n",
    "#LS 15.40651626417451 1892.5678738066536"
   ]
  },
  {
   "cell_type": "code",
   "execution_count": 65,
   "metadata": {},
   "outputs": [
    {
     "name": "stderr",
     "output_type": "stream",
     "text": [
      "<ipython-input-65-e5bdb1777731>:16: VisibleDeprecationWarning: Creating an ndarray from ragged nested sequences (which is a list-or-tuple of lists-or-tuples-or ndarrays with different lengths or shapes) is deprecated. If you meant to do this, you must specify 'dtype=object' when creating the ndarray.\n",
      "  print(np.linalg.norm(x-least_square(A,b)))\n"
     ]
    },
    {
     "ename": "ValueError",
     "evalue": "operands could not be broadcast together with shapes (2,) (14,) ",
     "output_type": "error",
     "traceback": [
      "\u001b[0;31m---------------------------------------------------------------------------\u001b[0m",
      "\u001b[0;31mValueError\u001b[0m                                Traceback (most recent call last)",
      "\u001b[0;32m<ipython-input-65-e5bdb1777731>\u001b[0m in \u001b[0;36m<module>\u001b[0;34m\u001b[0m\n\u001b[1;32m     14\u001b[0m \u001b[0mx0\u001b[0m\u001b[0;34m=\u001b[0m\u001b[0mnp\u001b[0m\u001b[0;34m.\u001b[0m\u001b[0mzeros\u001b[0m\u001b[0;34m(\u001b[0m\u001b[0;36m14\u001b[0m\u001b[0;34m)\u001b[0m\u001b[0;34m\u001b[0m\u001b[0;34m\u001b[0m\u001b[0m\n\u001b[1;32m     15\u001b[0m \u001b[0mx\u001b[0m\u001b[0;34m=\u001b[0m\u001b[0mgradient\u001b[0m\u001b[0;34m(\u001b[0m\u001b[0mx0\u001b[0m\u001b[0;34m,\u001b[0m\u001b[0;36m1.e-1\u001b[0m\u001b[0;34m,\u001b[0m\u001b[0mnitermax\u001b[0m\u001b[0;34m=\u001b[0m\u001b[0;36m4.e5\u001b[0m\u001b[0;34m)\u001b[0m\u001b[0;34m\u001b[0m\u001b[0;34m\u001b[0m\u001b[0m\n\u001b[0;32m---> 16\u001b[0;31m \u001b[0mprint\u001b[0m\u001b[0;34m(\u001b[0m\u001b[0mnp\u001b[0m\u001b[0;34m.\u001b[0m\u001b[0mlinalg\u001b[0m\u001b[0;34m.\u001b[0m\u001b[0mnorm\u001b[0m\u001b[0;34m(\u001b[0m\u001b[0mx\u001b[0m\u001b[0;34m-\u001b[0m\u001b[0mleast_square\u001b[0m\u001b[0;34m(\u001b[0m\u001b[0mA\u001b[0m\u001b[0;34m,\u001b[0m\u001b[0mb\u001b[0m\u001b[0;34m)\u001b[0m\u001b[0;34m)\u001b[0m\u001b[0;34m)\u001b[0m\u001b[0;34m\u001b[0m\u001b[0;34m\u001b[0m\u001b[0m\n\u001b[0m\u001b[1;32m     17\u001b[0m \u001b[0;31m#0.0200449843931244\u001b[0m\u001b[0;34m\u001b[0m\u001b[0;34m\u001b[0m\u001b[0;34m\u001b[0m\u001b[0m\n",
      "\u001b[0;31mValueError\u001b[0m: operands could not be broadcast together with shapes (2,) (14,) "
     ]
    }
   ],
   "source": [
    "def gradient(x0,step,tol=1.e-5,nitermax=1000) :\n",
    "    x = x0\n",
    "    grad =gradf(x0)\n",
    "    H = Hessf(x0)\n",
    "    d= -npl.solve(H,grad)\n",
    "    k=0\n",
    "    while np.linalg.norm(grad) >tol and  k<nitermax :\n",
    "        k+=1\n",
    "        gradn,Hn =gradf(x+step*d),Hessf(x+step*d)\n",
    "        x=x+step*d\n",
    "        grad=gradn\n",
    "        d=-npl.solve(Hn,grad)\n",
    "    return x,gradf\n",
    "x0=np.zeros(14)\n",
    "x=gradient(x0,1.e-1,nitermax=4.e5)\n",
    "print(np.linalg.norm(x-least_square(A,b)))\n",
    "#0.0200449843931244\n"
   ]
  },
  {
   "cell_type": "code",
   "execution_count": 41,
   "metadata": {},
   "outputs": [
    {
     "name": "stdout",
     "output_type": "stream",
     "text": [
      "318177392.56656605 100139.66608501541\n"
     ]
    }
   ],
   "source": [
    "def GET2():\n",
    "    A,b=GET()\n",
    "    for i in range(1,A.shape[1]) :\n",
    "        A[:,i]=A[:,i]-A.shape[0]/np.sum(A[:,i])\n",
    "\n",
    "    for i in range(A.shape[1]) :\n",
    "        A[:,i]/=np.linalg.norm(A[:,i])\n",
    "    return A,b\n",
    "A,b=GET()\n",
    "A2,b=GET2()\n",
    "print(np.linalg.cond(A.T.dot(A)),np.linalg.cond(A2.T.dot(A2)))\n",
    "#318177392.581283 100139.66608469417"
   ]
  },
  {
   "cell_type": "code",
   "execution_count": 66,
   "metadata": {},
   "outputs": [
    {
     "name": "stderr",
     "output_type": "stream",
     "text": [
      "<ipython-input-66-c1227569f384>:4: VisibleDeprecationWarning: Creating an ndarray from ragged nested sequences (which is a list-or-tuple of lists-or-tuples-or ndarrays with different lengths or shapes) is deprecated. If you meant to do this, you must specify 'dtype=object' when creating the ndarray.\n",
      "  print(np.linalg.norm(x-least_square(A,b)))\n"
     ]
    },
    {
     "ename": "ValueError",
     "evalue": "operands could not be broadcast together with shapes (2,) (14,) ",
     "output_type": "error",
     "traceback": [
      "\u001b[0;31m---------------------------------------------------------------------------\u001b[0m",
      "\u001b[0;31mValueError\u001b[0m                                Traceback (most recent call last)",
      "\u001b[0;32m<ipython-input-66-c1227569f384>\u001b[0m in \u001b[0;36m<module>\u001b[0;34m\u001b[0m\n\u001b[1;32m      2\u001b[0m \u001b[0mx0\u001b[0m\u001b[0;34m=\u001b[0m\u001b[0mnp\u001b[0m\u001b[0;34m.\u001b[0m\u001b[0mzeros\u001b[0m\u001b[0;34m(\u001b[0m\u001b[0mn\u001b[0m\u001b[0;34m)\u001b[0m\u001b[0;34m\u001b[0m\u001b[0;34m\u001b[0m\u001b[0m\n\u001b[1;32m      3\u001b[0m \u001b[0mx\u001b[0m\u001b[0;34m=\u001b[0m\u001b[0mgradient\u001b[0m\u001b[0;34m(\u001b[0m\u001b[0mx0\u001b[0m\u001b[0;34m,\u001b[0m\u001b[0;36m1.e-1\u001b[0m\u001b[0;34m,\u001b[0m\u001b[0mnitermax\u001b[0m\u001b[0;34m=\u001b[0m\u001b[0;36m4.e5\u001b[0m\u001b[0;34m)\u001b[0m\u001b[0;34m\u001b[0m\u001b[0;34m\u001b[0m\u001b[0m\n\u001b[0;32m----> 4\u001b[0;31m \u001b[0mprint\u001b[0m\u001b[0;34m(\u001b[0m\u001b[0mnp\u001b[0m\u001b[0;34m.\u001b[0m\u001b[0mlinalg\u001b[0m\u001b[0;34m.\u001b[0m\u001b[0mnorm\u001b[0m\u001b[0;34m(\u001b[0m\u001b[0mx\u001b[0m\u001b[0;34m-\u001b[0m\u001b[0mleast_square\u001b[0m\u001b[0;34m(\u001b[0m\u001b[0mA\u001b[0m\u001b[0;34m,\u001b[0m\u001b[0mb\u001b[0m\u001b[0;34m)\u001b[0m\u001b[0;34m)\u001b[0m\u001b[0;34m)\u001b[0m\u001b[0;34m\u001b[0m\u001b[0;34m\u001b[0m\u001b[0m\n\u001b[0m\u001b[1;32m      5\u001b[0m \u001b[0;31m#0.0200449843931244\u001b[0m\u001b[0;34m\u001b[0m\u001b[0;34m\u001b[0m\u001b[0;34m\u001b[0m\u001b[0m\n",
      "\u001b[0;31mValueError\u001b[0m: operands could not be broadcast together with shapes (2,) (14,) "
     ]
    }
   ],
   "source": [
    "A,b=GET2()\n",
    "x0=np.zeros(n)\n",
    "x=gradient(x0,1.e-1,nitermax=4.e5)\n",
    "print(np.linalg.norm(x-least_square(A,b)))\n",
    "#0.0200449843931244"
   ]
  }
 ],
 "metadata": {
  "kernelspec": {
   "display_name": "Python 3",
   "language": "python",
   "name": "python3"
  },
  "language_info": {
   "codemirror_mode": {
    "name": "ipython",
    "version": 3
   },
   "file_extension": ".py",
   "mimetype": "text/x-python",
   "name": "python",
   "nbconvert_exporter": "python",
   "pygments_lexer": "ipython3",
   "version": "3.8.10"
  }
 },
 "nbformat": 4,
 "nbformat_minor": 4
}
