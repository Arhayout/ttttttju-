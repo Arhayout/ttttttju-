{
 "cells": [
  {
   "cell_type": "markdown",
   "metadata": {},
   "source": [
    "<center>\n",
    "<a href=\"http://www.insa-toulouse.fr/\" ><img src=\"http://www.math.univ-toulouse.fr/~besse/Wikistat/Images/logo-insa.jpg\" style=\"float:left; max-width: 120px; display: inline\" alt=\"INSA\"/></a> \n",
    "\n",
    "<a href=\"http://wikistat.fr/\" ><img src=\"http://www.math.univ-toulouse.fr/~besse/Wikistat/Images/wikistat.jpg\" style=\"float:right; max-width: 250px; display: inline\"  alt=\"Wikistat\"/></a>\n",
    "\n",
    "</center>"
   ]
  },
  {
   "cell_type": "markdown",
   "metadata": {},
   "source": [
    "# [Scénarios d'Exploration Statistique](https://github.com/wikistat/Exploration)"
   ]
  },
  {
   "cell_type": "markdown",
   "metadata": {},
   "source": [
    "# Exploration de données d'enquête INSEE en <a href=\"https://cran.r-project.org/\"><img src=\"https://cran.r-project.org/Rlogo.svg\" style=\"max-width: 40px; display: inline\" alt=\"R\"/></a>\n",
    "# Patrimoine des Français "
   ]
  },
  {
   "cell_type": "markdown",
   "metadata": {},
   "source": [
    "### Résumé\n",
    "Exploration des données d'une l'enquête INSEE sur le patrimoine des français. Analyses uni, bi et [multidimensionnelles](http://wikistat.fr/pdf/st-m-explo-intro.pdf):  [AFC, AFCM](http://wikistat.fr/pdf/st-m-explo-afcm.pdf), classification non-supervisée [k-means, CAH](http://wikistat.fr/pdf/st-m-explo-classif.pdf)} des individus et interprétation des classes."
   ]
  },
  {
   "cell_type": "markdown",
   "metadata": {},
   "source": [
    "## Présentation\n",
    "### Objectif\n",
    "Le travail présenté décrit le déroulement classique d'une étude marketing dans un service de Gestion de la Relation Client. Les données sont extraites d'une enquête INSEE sur le patrimoine des ménages et des personnes constituant ces ménages. Le service marketing d'une banque ou d'une société d'assurance souhaite mieux connaître la structure socio-économique des ménages en France en rapport à leur patrimoine. Deux objectifs sont poursuivis sur ce type de données :\n",
    "\n",
    "- Définition de classes ou segments  homogènes des individus, c'est-à-dire des ménages ou des individus constituant les ménages,\n",
    "- Estimation d'un score ou d'un risque en vue d'un objectif particulier. Il s'agira, dans un deuxième temps, d'[estimer un score](http://wikistat.fr/pdf/st-scenar-app-patrimoine.pdf) d'intérêt pour un produit d'épargne particulier comme par exemple l'assurance vie, en fonction des caractéristiques socio-économiques des individus.\n",
    "\n",
    "Seul le premier objectif est poursuivi dans la présente étude avec, en plus, l'idée d'étudier la structure des données afin d'évaluer la faisabilité du 2ème objectif ; ce sera l'objet d'un [autre tutoriel](http://wikistat.fr/pdf/st-scenar-app-patrimoine.pdf).\n",
    "\n",
    "### Les données\n",
    "Les données sont publiques et  accessibles sur le site de l'INSEE. Elles sont issues d'une enquête \"Patrimoine\" réalisée en 2003-2004 qui faisait suite à des enquêtes \"Actifs financiers\" de 1986 et 1992. L'enquête \"Patrimoine\" visait une connaissance globale du patrimoine des ménages ainsi que de ses principales composantes. Elle recense tous les différents types d'actifs financiers, immobiliers et professionnels détenus par les individus ainsi que les différents types d'emprunts (immobilier, à la consommation, achat voiture, biens professionnels, ...). Outre la connaissance de souscriptions à différents types de produits, l'enquête interroge aussi les individus sur leur motivation de détention permettant ainsi d'appréhender le comportement patrimonial des ménages. Certaines questions liées à l'héritage, à la donation, à l'historique professionnelle et familiale, à la situation matrimoniale et financière sont ainsi renseignées. Les données, très volumineuses et relativement complexes sont accessibles sous la forme d'une base de données relationnelle compressée en 4 archives: ménages (657 variables pour 9 692 observations), individus (223 variables pour 22 821 observations), produits (89 variables pour 82 413 observations), transmission (29 variables pour 9 239 observations). Des variables clef identifiant le ménage, le numéro de l'individu dans le ménage ainsi que le numéro de produit possédé, permettent leur bonne mise en relation. \n",
    " \n",
    "Dans cette étude, il a été choisi *a priori* de prendre pour *unité statistique* les individus car le produit \"assurance vie\" cible de l'étude est nominatif. Cette approche est aussi justifiée par le nombre important de personnes vivant seules et aussi par les difficultés à obtenir des informations patrimoniales quantitatives des ménages. C'est surtout sur les individus que cette enquête finalement renseigne. \n",
    "\n",
    "Les variables se répartissent en différents groupes :\n",
    "\n",
    "- **Sociologiques** âge, sexe, situation matrimoniale, nombre d'enfants et petits enfants, études et diplômes, situation professionnelle, localisation géographiques, âge des parents, existence ou non des parent et de grands-parents, occurrence ou non d'événements graves (maladie, décès, divorce...);\n",
    "- **Actifs financiers** Ils ont été regroupés en plusieurs sous catégories : les livrets d'épargne (défiscalisé ou non), l'épargne logement (CEL, PEL), l'épargne retraite hors assurance vie (PEP, complémentaire retraite volontaire, assurance décès volontaire, bons de capitalisation), l'épargne salariale et les stock-options, les valeurs mobilières (compte titre, PEA, SICAV, FCP). Beaucoup de produis financiers considérés par l'enquête ne sont pas pris en compte dans cette étude car bien trop rarement possédés par les personnes interrogées : bons autres que capitalisation, compte à terme, compte courant d'associés, livret épargne entreprise...\n",
    "- **Endettement** Cette catégorie tient compte de l'endettement pour des motifs aussi variés que l'achat de la résidence principale, les gros travaux immobiliers, l'achat de voiture, le crédit à la consommation et les emprunts à titre professionnel. Les variables sont binaires : détention d'une dette ou non;\n",
    "- **Patrimoine des ménages** Deux variables sont référencées pour évaluer le patrimoine des ménages financier ou immobilier. Même en interrogeant confidentiellement les personnes et sur des tranches de valeurs approximatives, le nombre de valeurs manquantes est exceptionnellement élevé pour ces variables : plus de 90% pour le patrimoine financier et plus de 60% pour le patrimoine globale et immobilier. Ces variables sont inexploitables. Seule celle signalant la détention d'héritage et/ou donation est utilisable;\n",
    "- **Revenu des ménages** Il en est de même pour les revenus, les français sont très susceptibles sur ces questions. Malgré une enquête très détaillée par tranche de type de revenu, les informations obtenues sont insuffisamment renseignées et, ne considérer que celles obtenues, introduirait sans doute des biais importants.\n",
    "  \n",
    "Un travail préliminaire important a donc consisté à construire un \"entrepôt de données\" fiable et suffisamment renseigné à partir des quatre archives disponibles sur le site de l'INSEE. Certaines variables seront considérées qualitatives (tranches d'âge), beaucoup de modalités sont regroupées pour éviter les trop faibles effectifs de certaines, des variables quasiment constantes sont éliminées. Obtenir des données correctes et fiables est généralement l'**étape la plus longue d'une étude statistique** ou de *science des données*, surtout si les sources sont multiples. Pour gagner du temps, tout ce travail de sélection, nettoyage des données est résumé dans un programme écrit en R : `lec-trans-patrinsee.R` dans le répertoire `http://wikistat.fr/programmes`. Consulter ce programme pour comprendre la logique du déroulement de cette étape. \n",
    "\n",
    "*NB.* \n",
    "   - Même si vous n'avez pas pratiqué pas cette étape, ne pas perde de vue qu'elle est fastidieuse mais essentielle pour la qualité finale des résultats.\n",
    "   - L'utilisation de la librairie [`dplyr`](https://cran.r-project.org/web/packages/dplyr/dplyr.pdf) serait maintenant à privilégier pour réaliser des opérations complexes et volumineuses de *data munging* en R. Elle est utilisée dans les denrières étapes de préparation des données qui suivent dans ce calepin.\n",
    "\n",
    "Finalement, à l'issue de ce travail préliminaire, l'étude débute avec une base contenant **22821 individus** décrits par les **36 variables** définies dans le Tableau ci-dessous. Ces données sont accessibles dans le fichier `bdd-insee.dat` du répertoire `http://wikistat.fr/data` ou dans celui de ce notebook.\n",
    "\n",
    "Un premier enseignement de cette étude : il aurait été sûrement beaucoup plus efficace, à même coût, d'interroger beaucoup *moins de monde* avec beaucoup *moins de questions* mais en prenant le temps (enquêteur en tête à tête) d'obtenir des *réponses précises à l'ensemble des questions*! C'est malheureusement un comportement excessivement répandu dans beaucoup de disciplines, des Sciences humaines à la Biologie, de viser un niveau de détail beaucoup trop fin au regard de la précision des données ou de la taille de l'échantillon. \n",
    "\n",
    "*Tableau: Identifiant, signification des variables retenues et liste des modalités; les identifiants des variables et modalités ont été choisis courts et mnémotechniques pour simplifier et aider l'interprétation des graphiques.*\n",
    "\n",
    "**Identif**. | **Libellé** |**Modalités**\n",
    "            -|-           -|-\n",
    "Asvi | Possession ou non assurance vie | AsO, AsN\n",
    "AsviR | idem | 1, 0\n",
    "Sexe | Genre | Sh, Sf\n",
    "Age | Age | Quantitatif\n",
    "Tage | Tranches d'âge | T10 à T90\n",
    "Couple | Vie ou non en couple | CouO CouN\n",
    "Vmatri | Statut matrimonial  | Vcel Vmar Vveu Vdiv\n",
    "Nation | Nationalité  | Nfra Nnat Netr\n",
    "Diplome | Niveau de diplôme  | Dsan, Dcep, Dtec (cap, bep), Dbepc, Dbact Dbacg, Db+2, Db+5\n",
    "Occupa | Type d'occupation  | Oact, Oina (foyer, chom, other), Oret\n",
    "Work | Niveau professionnel  | WctA (cadre, catA), WctB (agent, catB, tech), Wemp, WctC (osp, ouv) \n",
    "statut | Statut professionnel  | spri, spub, sind\n",
    "Herit | Bénéfice ou non d'un héritage  | HerO, HerN\n",
    "Pere | Présence ou non du père  | PerO PerN PerI\n",
    "Mere | Présence ou non de la mère  | MerO, MerN MerI\n",
    "Gparp | Grands parents paternels  | GppO GppN GppI\n",
    "gparm | Grands parents maternels  | gpmO gpmN gpmI\n",
    "Jgrav | Evènement grave dans la jeunesse  | JgvO  JgvN \n",
    "Livep | Livret d'épargne  | LivO LivN\n",
    "Epalo | Epargne logement  | EplO EplN\n",
    "qpep | Plan d'épargne populaire  | qppO qppN\n",
    "vmob | Valeurs mobilières  | vmoO vmoN\n",
    "asdecv | Assurance décès volontaire  | asdO asdN\n",
    "Retrait | Epargne retraite   | RepO RepN\n",
    "livdf | Livret défiscalisé   | ldfO, ldfN\n",
    "pel | Plan épargne logement   | pelO, pelN\n",
    "cel | Compte épargne logement  | celO, celN\n",
    "xcapi |Bons de capitalisation  | xcpO xcpN\n",
    "fepsal | Epargne salarial ou stock options  | fesO fesN\n",
    "Qpea | Plan épargne action  | QpeO QpeN\n",
    "Urbani | Niveau d'urbanisation  | U1 à U5\n",
    "Zeat | Région de résidence  | Zso Zpar Zoue Zne Zmed Zidf Zcen\n",
    "Nbenf | Nombre d'enfants  | Quantitatif\n",
    "Nbenfq | Nombre d'enfants  | Nbe0, Nbe1, Nbe2, Nb>3\n",
    "Iogoc | Type d'occupation du logement   | Iloc, Iprp (usufruit)\n",
    "terre | Possession de terres  | terO terN\n",
    "dette | Dettes ou emprunts  | detO detN\n",
    "bdetre | Emprunt achat maison  | bemO bemN\n",
    "hdetvo  | Emprunt voiture  | hevO hevN\n",
    "\n",
    "### Gestion des données manquantes\n",
    "Dans beaucoup de sitations et jeux de données, le *principal problème* rencontré et l'un des plus *délicats* à prendre en compte, est celui des *données manquantes*; absences qui peuvent être la conséquence de différentes causes et dont le traitement va différer justement en fonction de cette cause. Une absence de données peut être due à:\n",
    "\n",
    "- un refus de répondre lors d'une enquête, \n",
    "- une question mal formulée ou inappropriée à la personne interrogée,\n",
    "- une erreur de saisie, de codage, \n",
    "- une panne de l'appareil de mesure, \n",
    "- ...\n",
    "\n",
    "Pour simplifier, deux grands types sont à prendre en compte correspondant à différentes stratégies:\n",
    "1.  L'absence ne dépend pas du contexte, des autres variables, le \"trou\" est aléatoire (*missing at random*) dû à une erreur indépendamment des variables observées. Différentes stratégies sont applicables: \n",
    "    - Si le taux de manquants est faible, il suffit de supprimer l'observation correspondante, le caractère aléatoire des trous ne biaisera pas les résultats, \n",
    "    - dans le cas contraire, il peut être trop pénalisant de perdre des informations, différentes méthodes d'imputation sont envisageables: construire  un modèle élémentaire (régression, moyenne ou médiane des valeurs...) de prévision de la ou des données manquantes en fonction des autres variables ; utiliser une méthode acceptant des données manquantes et pour certaines tout en imputant les valeurs (régression PLS, algorithme EM d'optimisation de la vraisemblance...) \n",
    "\n",
    "2. Le trou dépend des autres variables. Il n'y a pas de méthode statistique pour répondre à cette situation, c'est souvent le simple \"bon sens\" qui permet de contourner la difficulté. \n",
    "\n",
    "C'est ce dernier cas qui est très présent dans les données étudiées.\n",
    "\n",
    "Une vignette détaille les stratégies plus élaborées d'[imputation de données manquantes](http://wikistat.fr/pdf/st-m-app-idm.pdf).\n",
    "\n",
    "**Répondre aux questions en s'aidant des résultats des exécutions**."
   ]
  },
  {
   "cell_type": "markdown",
   "metadata": {},
   "source": [
    "## Exploration élémentaire\n",
    "### Lecture\n",
    "Le fichier contenant les données et à télécharger a été créé par dans R par l'instruction \n",
    "\n",
    "`write.table(bdd, \"bdd-insee.dat\", row.names=FALSE)`\n",
    "\n",
    "Il suffit de le relire avec la commande: "
   ]
  },
  {
   "cell_type": "code",
   "execution_count": null,
   "metadata": {
    "collapsed": true
   },
   "outputs": [],
   "source": [
    "bdInsee=read.table(\"bdd-insee.dat\",header=T)"
   ]
  },
  {
   "cell_type": "markdown",
   "metadata": {},
   "source": [
    "### Analyse univariée\n",
    "L'analyse élémentaire qui va suivre va montrer que les données de patrimoine contiennent beaucoup de données manquantes mais pas *missing at random*. Les absences dépendent des autres variables, les conserver biaiserait ou bloquerait les analyses.  Comme l'effectif de l'échantillon est important (*n=22821*), le plus raisonnable est, dans ce cas,  de supprimer des observations tout en s'assurant qu'aucun biais n'est ainsi introduit dans les objectifs de l'analyse.\n",
    "\n",
    "**Q** Repérer les effectifs des données manquantes pour chaque variable ; repérer également les modalités à faible effectif: "
   ]
  },
  {
   "cell_type": "code",
   "execution_count": null,
   "metadata": {},
   "outputs": [],
   "source": [
    "summary(bdInsee)"
   ]
  },
  {
   "cell_type": "markdown",
   "metadata": {},
   "source": [
    "### Analyse bivariée\n",
    "\n",
    "Croiser la variable `Age` avec celle `Couple` puis avec `Work`."
   ]
  },
  {
   "cell_type": "code",
   "execution_count": null,
   "metadata": {},
   "outputs": [],
   "source": [
    "table(bdInsee$Tage,bdInsee$Couple,useNA = \"always\")"
   ]
  },
  {
   "cell_type": "code",
   "execution_count": null,
   "metadata": {},
   "outputs": [],
   "source": [
    "table(bdInsee$Tage,bdInsee$Work,useNA = \"always\")"
   ]
  },
  {
   "cell_type": "markdown",
   "metadata": {},
   "source": [
    "**Q** Caractériser ces données manquantes et justifier de supprimer ensuite les individus de moins de 20 ans."
   ]
  },
  {
   "cell_type": "code",
   "execution_count": null,
   "metadata": {},
   "outputs": [],
   "source": [
    "bdInsee2=bdInsee[bdInsee[,\"Age\"]>19,]\n",
    "summary(bdInsee2)"
   ]
  },
  {
   "cell_type": "markdown",
   "metadata": {},
   "source": [
    "Le problème est réglé pour la variable `Couple` mails il reste toujours des données manquantes dans la variable `Work`.  \n",
    "\n",
    "**Q** Considérer le graphe suivant. Que dire de l'impact des variables manquantes sur la liaison entre la variable `Work`et celle cible `Asvi`?"
   ]
  },
  {
   "cell_type": "code",
   "execution_count": null,
   "metadata": {},
   "outputs": [],
   "source": [
    "mosaicplot(table(bdInsee2$Asvi,bdInsee2$Work,useNA = \"always\"),main=\"\")"
   ]
  },
  {
   "cell_type": "markdown",
   "metadata": {},
   "source": [
    "Les résultats de la commande ci-dessous révèlent encore des soucis :"
   ]
  },
  {
   "cell_type": "code",
   "execution_count": null,
   "metadata": {},
   "outputs": [],
   "source": [
    "table(bdInsee2$Diplome,bdInsee2$Work,useNA = \"always\")"
   ]
  },
  {
   "cell_type": "markdown",
   "metadata": {},
   "source": [
    "Les colonnes `<NA>` sont expllicitement nommées."
   ]
  },
  {
   "cell_type": "code",
   "execution_count": null,
   "metadata": {},
   "outputs": [],
   "source": [
    "cont=table(bdInsee2$Diplome,bdInsee2$Work,useNA = \"always\")\n",
    "dimnames(cont)[[1]][9]=\"Dinc\"\n",
    "dimnames(cont)[[2]][6]=\"Winc\"\n",
    "cont"
   ]
  },
  {
   "cell_type": "markdown",
   "metadata": {},
   "source": [
    "Pour évaluer les biais potentiels liés à la présence des ces données manquantes, deux [analyses des correspondances}(http://wikistat.fr/pdf/st-m-explo-afc.pdf) simples entre les variables `Work` et `Diplome` sont réalisées sans et avec les données manquantes considérées comme des modalités spécifiques `Dinc` et `Winc`."
   ]
  },
  {
   "cell_type": "code",
   "execution_count": null,
   "metadata": {},
   "outputs": [],
   "source": [
    "# observations avec données manquantes exclues\n",
    "library(FactoMineR)\n",
    "CA(table(bdInsee2$Diplome,bdInsee2$Work))"
   ]
  },
  {
   "cell_type": "markdown",
   "metadata": {},
   "source": [
    "Données manquantes incluses comme une modalité spécifique en utilisant la table de contingence `cont`.\n",
    "\n",
    "**Q** Que sont les pourcentage des labels des axes? Comment sont-ils obtenus? Comment les interprétés?\n",
    "\n",
    "**Q** Interpréter le graphique."
   ]
  },
  {
   "cell_type": "code",
   "execution_count": null,
   "metadata": {},
   "outputs": [],
   "source": [
    "CA(cont)"
   ]
  },
  {
   "cell_type": "markdown",
   "metadata": {},
   "source": [
    "**Q** Que pouvez vous en déduire? Pensez vous que la prise en compte ou la suppression des observations avec données manquantes (modalités `Dinc`et `Winc`) a un impact sur l'interprétation de la liaison entre les variables `Work` et `Diplome`?\n",
    "\n",
    "Les variables décrivant les ressources et le patrimoine n'ont même pas été prises en compte car elles présentent beaucoup trop de données manquantes : 90 % pour le patrimoine financier, 60 % pour l'autre ; même chose pour les variables relatives aux petits enfants. C'est la faiblesse majeure de cette enquête; cf. la remarque introductive sur la stratégie adoptée pour cette enquête trop \"exhaustive\" sur certains points; trop d\"informations\" tue l'information.\n",
    "\n",
    "Le même type de démarche est entrepris sur les autres variables :"
   ]
  },
  {
   "cell_type": "code",
   "execution_count": null,
   "metadata": {},
   "outputs": [],
   "source": [
    "summary(bdInsee2[,c(\"Mere\", \"Pere\", \"Gparp\", \"gparm\", \"Urbani\", \"Zeat\")])"
   ]
  },
  {
   "cell_type": "code",
   "execution_count": null,
   "metadata": {},
   "outputs": [],
   "source": [
    "summary(bdInsee2[,\"Tage\"])"
   ]
  },
  {
   "cell_type": "code",
   "execution_count": null,
   "metadata": {},
   "outputs": [],
   "source": [
    "table(bdInsee2[,c(\"Gparp\", \"gparm\")],useNA = \"always\")"
   ]
  },
  {
   "cell_type": "code",
   "execution_count": null,
   "metadata": {},
   "outputs": [],
   "source": [
    "table(bdInsee2[,c(\"Mere\", \"Pere\",\"Gparp\")],useNA = \"always\")"
   ]
  },
  {
   "cell_type": "code",
   "execution_count": null,
   "metadata": {},
   "outputs": [],
   "source": [
    "table(bdInsee2[,c(\"Urbani\", \"Zeat\")])"
   ]
  },
  {
   "cell_type": "markdown",
   "metadata": {},
   "source": [
    "Pour aboutir finalement à l'exécution du programme ci-dessous. remarquer que l'utilisaiton de la librairie [`dplyr`](https://cran.r-project.org/web/packages/dplyr/dplyr.pdf) permettrait de sumplifier la syntaxe.\n",
    "\n",
    "**Q** Justifier les choix opérés pour construire le data frame `patrimInsee` qui servira de base aux analyses à venir."
   ]
  },
  {
   "cell_type": "code",
   "execution_count": null,
   "metadata": {},
   "outputs": [],
   "source": [
    "library(dplyr)"
   ]
  },
  {
   "cell_type": "code",
   "execution_count": null,
   "metadata": {
    "collapsed": true
   },
   "outputs": [],
   "source": [
    "patrimInsee=filter(bdInsee2,Diplome!=\"NA\" & Work != \"NA\" & Work != \"Waut\" & statut != \"NA\" & Gparp != \"Gppi\" &\n",
    "                  Gparp != \"NA\" & Mere != \"MerI\" & Pere != \"PerI\" & Jgrav != \"NA\")"
   ]
  },
  {
   "cell_type": "code",
   "execution_count": null,
   "metadata": {},
   "outputs": [],
   "source": [
    "summary(patrimInsee)"
   ]
  },
  {
   "cell_type": "code",
   "execution_count": null,
   "metadata": {},
   "outputs": [],
   "source": [
    "patProv=patrimInsee\n",
    "patProv$Tage=recode(patrimInsee$Tage,T90=\"T80\")\n",
    "patProv$Vmatri=recode(patrimInsee$Vmatri, Vveu=\"Vsep\", Vdiv=\"Vsep\")\n",
    "patProv$Diplome=recode(patrimInsee$Diplome, Dbacg=\"Dbac\", Dbact=\"Dbac\")\n",
    "patProv$Urbani=recode(patrimInsee$Urbani, U6=\"U5\")\n",
    "patProv$Zeat=recode(patrimInsee$Zeat, Znor=\"Zne\",Zest=\"Zne\")\n",
    "summary(patProv)"
   ]
  },
  {
   "cell_type": "markdown",
   "metadata": {},
   "source": [
    "Supprimer les niveaux de facteur ou modalités d'effectifs nuls."
   ]
  },
  {
   "cell_type": "code",
   "execution_count": null,
   "metadata": {},
   "outputs": [],
   "source": [
    "patProv=droplevels(patProv)\n",
    "summary(patProv)"
   ]
  },
  {
   "cell_type": "code",
   "execution_count": null,
   "metadata": {},
   "outputs": [],
   "source": [
    "patrimInsee=select(patProv,-AsviR,-Nation,-xcapi)\n",
    "dim(patrimInsee)"
   ]
  },
  {
   "cell_type": "code",
   "execution_count": null,
   "metadata": {},
   "outputs": [],
   "source": [
    "summary(patrimInsee)"
   ]
  },
  {
   "cell_type": "markdown",
   "metadata": {},
   "source": [
    "### Bilan de la première étape \n",
    "Dresser le bilan de ce long travail de préparation visant à obtenir des données fiables, représentatives et suffisament renseignées pour décrire l'ensemble des observations sans perdre de vue l'objectif qui est de s'intéresser au patrimoine des individus, notamment la possession de certains produits financiers comme une *assurance vie*.\n",
    "\n",
    "Sauf erreur, il reste alors 11887 observations et 37 variables: \n",
    "- 2 quantitatives: `Age, Nbenf`,\n",
    "- 34 qualitatives: `Asvi, Sexe, Tage, Couple, Vmatri, Diplome, Ocupa, Work, statut, Herit, Pere, Mere, Gparp, gparm, Jgrav, Livep, Epalo, fepsal, vmob, livdf, pel, cel, qpep, asdecv, Retrai, Qpea, Urbani, Zeat, Nbenfq, Iogoc, terre, dette, bdetre, hdetvo`.\n",
    "\n",
    "## Exploration multidimensionnelle\n",
    "### [Analyse des correspondances multiples](http://wikistat.fr/pdf/st-m-explo-afcm.pdf)\n",
    "L'objectif est une prise en compte de toutes les variables retenues afin de mieux apprécier la structure globale des données."
   ]
  },
  {
   "cell_type": "markdown",
   "metadata": {},
   "source": [
    "**Q** Une analyse factorielle multiple des correspondances fournit les résultats ci-dessous. Quelle interprétation tirer des pourcentages sur les labels des axes?"
   ]
  },
  {
   "cell_type": "code",
   "execution_count": null,
   "metadata": {},
   "outputs": [],
   "source": [
    "afcm=MCA(patrimInsee[,-c(3,30)],graph=F)\n",
    "plot(afcm,habillage=\"quali\",invisible=\"ind\")"
   ]
  },
  {
   "cell_type": "markdown",
   "metadata": {},
   "source": [
    "**Q** La lecture des graphiques met en évidence certains artefacts ou correspondances triviales entre certaines modalités. Les identifier."
   ]
  },
  {
   "cell_type": "code",
   "execution_count": null,
   "metadata": {},
   "outputs": [],
   "source": [
    "afcm=MCA(patrimInsee[,-c(3,30)],quali.sup=c(4,5,12,13,29),graph=F)\n",
    "plot(afcm,habillage=\"quali\",invisible=\"ind\")"
   ]
  },
  {
   "cell_type": "markdown",
   "metadata": {},
   "source": [
    "**Q** Expliquer brièvement les caractéristiques de la dispersion des modalités selon la direction du premier axe.\n",
    "\n",
    "**Q** Quelle est l’interprétation de la dispersion selon le 2ème axe ?\n",
    "\n",
    "### Représentation des individus\n",
    "**Q** De quelle matrice est calculée la décomposition en valeur singulière permettant le graphique ci-desous? Quelles sont les coordonnées des individus?"
   ]
  },
  {
   "cell_type": "code",
   "execution_count": null,
   "metadata": {},
   "outputs": [],
   "source": [
    "plot(afcm, choix=\"ind\",habillage=\"quali\",cex=0.2, col.ind=as.integer(patrimInsee$Asvi))"
   ]
  },
  {
   "cell_type": "markdown",
   "metadata": {},
   "source": [
    "**Q** Que dire de la position relative des individus rouges *vs.* les noirs? Que pouvons-nous penser de l’objectif de prévision de la possession d’un produit « assurance vie » ?\n",
    "\n",
    "### [Classification non supervisée](http://wikistat.fr/pdf/st-m-explo-classif.pdf)\n",
    "**Q** De façon classique, tout du moins en France, le statisticien récupère de l’exécution précédente une matrice quantitative de représentation vectorielle des individus. Quelle est cette matrice? Il l’utilise pour construire une classification non-supervisée. Pourquoi procéder ainsi?\n",
    "\n",
    "**Q** Quel est l’intérêt de la CAH par rapport à kmeans? Quel problème pourrait poser la CAH avec ces données? Comment le contourner? Quelle option faut-il fixer en CAH et quel choix est-il conseillé?"
   ]
  },
  {
   "cell_type": "code",
   "execution_count": null,
   "metadata": {},
   "outputs": [],
   "source": [
    "res.hcpc=HCPC(afcm,nb.clust=6,method=\"ward\",order=F,graph=F)\n",
    "plot(res.hcpc,choice=\"bar\")"
   ]
  },
  {
   "cell_type": "markdown",
   "metadata": {},
   "source": [
    "**Q** La CAH conduit au graphe précédent. Que représente-t-il et quelle conclusion en tirer? Quel graphe n’est pas représenté? Pourquoi?"
   ]
  },
  {
   "cell_type": "markdown",
   "metadata": {},
   "source": [
    "### Interprétation des classes\n",
    "La dernière étape vise à construire une interprétation des classes. Une démarche systématique consisterait alors à calculer les moyennes (variables quantitatives) ou les effectifs des modalités pour chacune des variables et chacune des classes. C'est plutôt fastidieux. Une autre approche, globale, consiste à recalculer une analyse des correspondances en intégrant la variable classe obtenue. "
   ]
  },
  {
   "cell_type": "code",
   "execution_count": null,
   "metadata": {},
   "outputs": [],
   "source": [
    "color=as.integer(res.hcpc$data.clust$clust)\n",
    "plot(afcm, choix=\"ind\",habillage=\"quali\",col.ind=color,cex=0.2)"
   ]
  },
  {
   "cell_type": "markdown",
   "metadata": {},
   "source": [
    "Construire les classes et les représenter.\n",
    "\n",
    "**Q** Caractériser brièvement les classes (1,2,4,6) les plus facile à interpréter."
   ]
  },
  {
   "cell_type": "code",
   "execution_count": null,
   "metadata": {},
   "outputs": [],
   "source": [
    "patriClasse=data.frame(patrimInsee[,-c(3,4,5,12,13,29,30)], \"Classe\"=as.factor(res.hcpc$data.clust$clust))\n",
    "afcm=MCA(patriClasse,graph=F)\n",
    "plot(afcm,habillage=\"quali\",invisible=\"ind\")"
   ]
  }
 ],
 "metadata": {
  "kernelspec": {
   "display_name": "R",
   "language": "R",
   "name": "ir"
  },
  "language_info": {
   "codemirror_mode": "r",
   "file_extension": ".r",
   "mimetype": "text/x-r-source",
   "name": "R",
   "pygments_lexer": "r",
   "version": "3.5.1"
  }
 },
 "nbformat": 4,
 "nbformat_minor": 1
}
