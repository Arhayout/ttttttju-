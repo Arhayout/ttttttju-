{
 "cells": [
  {
   "cell_type": "markdown",
   "metadata": {},
   "source": [
    "<center>\n",
    "<a href=\"http://www.insa-toulouse.fr/\" ><img src=\"http://www.math.univ-toulouse.fr/~besse/Wikistat/Images/logo-insa.jpg\" style=\"float:left; max-width: 120px; display: inline\" alt=\"INSA\"/></a> \n",
    "\n",
    "<a href=\"http://wikistat.fr/\" ><img src=\"http://www.math.univ-toulouse.fr/~besse/Wikistat/Images/wikistat.jpg\" style=\"float:right; max-width: 250px; display: inline\"  alt=\"Wikistat\"/></a>\n",
    "\n",
    "</center>"
   ]
  },
  {
   "cell_type": "markdown",
   "metadata": {},
   "source": [
    "# [Scénarios d'Exploration Statistique](https://github.com/wikistat/Exploration)"
   ]
  },
  {
   "cell_type": "markdown",
   "metadata": {},
   "source": [
    "# Exploration de données cliniques en <a href=\"https://cran.r-project.org/\"><img src=\"https://cran.r-project.org/Rlogo.svg\" style=\"max-width: 40px; display: inline\" alt=\"R\"/></a>:  diagnostic coronarien \n",
    "\n",
    "### Résumé\n",
    "Exploration des données de suivi clinique. Analyses uni, bi et [multidimensionnelles](http://wikistat.fr/pdf/st-m-explo-intro.pdf): [ACP](http://wikistat.fr/pdf/st-m-explo-acp.pdf) [AFC](http://wikistat.fr/pdf/st-m-explo-afc.pdf), [AFCM](http://wikistat.fr/pdf/st-m-explo-afcm.pdf), classification non-supervisée [k-means, CAH](http://wikistat.fr/pdf/st-m-explo-classif.pdf)} des individus après AFCM ou factorisation non négative des matrices ([NMF](http://wikistat.fr/pdf/st-m-explo-nmf.pdf)) puis interprétation des classes. L'objectif est de préparer l'[étape suivante](https://github.com/wikistat/Apprentissage/tree/master/Diag-coro) d'aide au diagnostic par prévision de la pathologie."
   ]
  },
  {
   "cell_type": "markdown",
   "metadata": {},
   "source": [
    "## Introduction\n",
    "Des données publiques disponibles sur le site [UCI repository](http://archive.ics.uci.edu/ml/) décrivent des facteurs de risque et résultats cliniques: 13 parmi 75 de l’étude originale de [Detrano et al. (1989)](http://www.ajconline.org/article/0002-9149%2889%2990524-9/abstract), liés à une maladie coronarienne (athérosclérose). Celle-ci est jugée présente lorsque tous les vaisseaux coronariens sont obstrués à plus de 50% par des athéromes. Les variables étudiées sont observées sur un échantillon de 270 patients admis dans une clinique de Cleveland (Ohio) à la suite de douleurs thoraciques pouvant être dues à une angine de poitrine. Elles sont décrites dans le tableau ci-dessous:\n",
    "\n",
    "Num| Code | Libellé | Valeurs\n",
    "-|--|--|--\n",
    "1|`Age`   |  \t\t\n",
    "2|`Sexe`|   |sxF, sxM\n",
    "3|`Douleur`|\tThoracique|\tdlA (angine typique), dlb(atypique) dlc(différent) dlD(asymptom.)\n",
    "4|`Tension`|\tSystolique|\tmmHg à l’admission et au repos\n",
    "5|`Cholest`|\tTaux|\tmg/dl (préférable<200, limite entre 200 et 240, risqué au-delà)\n",
    "6|`Sucre`|\tTaux à jeun|\tscN (<120mg/dl), scO (>120mg/dl)\n",
    "7|`Cardio`|\tECG au repos|\tcdA (Normal) cdB (ST/T anormal) cdC (hypertrophie ventr. gauche)\n",
    "8|`FreqM`|\tFréquence|\tcardiaque maximum lors du test d’effort\n",
    "9|`AngInd`|\tAngine induite|\tpar l’effort :  tmA (oui), tmB (non)\n",
    "10|`PicInd`|\tDépression ST|\tInduite par effort / repos\n",
    "11|`PentInd`|\tSegment ST| \tInduit à l’effort piA(ascendante), piB(plate), piC(descendante)  \n",
    "12|`Nvais`|\tNombre de|\tvaisseaux fl0, fl1, fl2, fl3 majeurs colorés par fluoroscopie\n",
    "13|`Thal`|\tScintigraphie|\tthN(normal) thF(défaut fixé) thR(défaut révers.) avec effort\n",
    "14|`Coro`|\tCoronaropathie|\tCoA(Absence), CoP(Présence)\n",
    "\n",
    "Certaines sont associées à des risques potentiels et d’autres sont résultats d’examens cliniques au repos ou à la suite d’un test d’effort. Les variables 1, 4, 5, 8, 10 sont quantitatives, les autres sont qualitatives dont certaines binaires : 2, 6, 9, 14. Le diagnostic (variable `Coro`) a été établi par une *angiographie* permettant de mesurer l’obstruction des artères coronariennes. \n",
    "\n",
    "En principe, l’objectif sur ces données est de construire un modèle de prévision de la variable `Coro` à partir de l’observation des autres, pas ou peu invasives, car l’angiographie est un examen invasif  comportant des risques. La variable `Coro` étant qualitative à 2 classes, c’est une régression logistique qui permettrait d’atteindre l’objectif mais une étude exploratoire préalable, objet du présent travail, est utile et nécessaire à la bonne compréhension des données.\n",
    "\n",
    "**Répondre aux questions en s'aidant des résultats des exécutions**."
   ]
  },
  {
   "cell_type": "markdown",
   "metadata": {},
   "source": [
    "## 1 Description uni et bidimensionnelle\n",
    "**Q** Quelle est la population étudiée ? Quel est l’échantillon?\n",
    "\n",
    "Lecture des données et recodage en clair des modalités pour construire le dataFrame. Les données osnt disponibles dans le répertoire de ce calepin ou dans celui désignié par le chemin en commentaire."
   ]
  },
  {
   "cell_type": "code",
   "execution_count": null,
   "metadata": {},
   "outputs": [],
   "source": [
    "# path=\"http://www.math.univ-toulouse.fr/~besse/Wikistat/data/\"\n",
    "path=\"\"\n",
    "heart=read.table(paste(path,\"heart.dat\",sep=\"\"))\n",
    "\n",
    "# recodage des classes et nom des variables\n",
    "heart=data.frame(\n",
    "    Age=heart[,1],\n",
    "    Sexe=factor(as.factor(heart[,2]),labels=c(\"sxF\",\"sxM\")),\n",
    "    Douleur=factor(as.factor(heart[,3]),labels=c(\"dlA\",\"dlB\",\"dlC\",\"dlD\")),\n",
    "    Tension=heart[,4],\n",
    "    Cholest=heart[,5],\n",
    "    Sucre=factor(as.factor(heart[,6]),labels=c(\"scN\",\"scO\")),\n",
    "    Cardio=factor(as.factor(heart[,7]),labels=c(\"cdA\",\"cdB\",\"cdC\")),\n",
    "    FreqM=heart[,8],\n",
    "    AngInd=factor(as.factor(heart[,9]),labels=c(\"tmA\",\"tmB\")),\n",
    "    PicInd=heart[,10],\n",
    "    PenteInd=factor(as.factor(heart[,11]),labels=c(\"piA\",\"piB\",\"piC\")),\n",
    "    Nvais=factor(as.factor(heart[,12]),labels=c(\"fl0\",\"fl1\",\"fl2\",\"fl3\")),\n",
    "    Thal=factor(as.factor(heart[,13]),labels=c(\"thN\",\"thF\",\"thR\")),\n",
    "    Coro=factor(as.factor(heart[,14]),labels=c(\"CoA\",\"CoP\")))\n",
    "summary(heart)"
   ]
  },
  {
   "cell_type": "code",
   "execution_count": null,
   "metadata": {
    "collapsed": true
   },
   "outputs": [],
   "source": [
    "# Pour adapter la taille des graphiques à la fenêtre\n",
    "# car ils sont sinon nien trop grands\n",
    "library(repr)\n",
    "options(repr.plot.width=3, repr.plot.height=3)"
   ]
  },
  {
   "cell_type": "markdown",
   "metadata": {},
   "source": [
    "**Q** Que représentent ces graphiques? Que dire de ces variables? Décrire les autres variables."
   ]
  },
  {
   "cell_type": "code",
   "execution_count": null,
   "metadata": {},
   "outputs": [],
   "source": [
    "hist(heart[,\"Age\"],xlim=c(20,80), probability=T, main=\"\",xlab=\"Age\")\n",
    "boxplot(heart[,\"Age\"], horizontal=TRUE,boxwex=.01,  outline=TRUE,  \n",
    "        ylim=c(20,80), frame=F, col = \"lightgrey\", add = TRUE,at=0.01)"
   ]
  },
  {
   "cell_type": "code",
   "execution_count": null,
   "metadata": {},
   "outputs": [],
   "source": [
    "hist(heart[,\"Tension\"],xlim=c(90,200), probability=T, main=\"\",xlab=\"Tension systolique\")\n",
    "boxplot(heart[,\"Tension\"], horizontal=TRUE,boxwex=.01,  outline=TRUE,  \n",
    "        ylim=c(90,200), frame=F, col = \"lightgrey\", add = TRUE,at=0.005)"
   ]
  },
  {
   "cell_type": "code",
   "execution_count": null,
   "metadata": {},
   "outputs": [],
   "source": [
    "hist(heart[,\"FreqM\"],xlim=c(70,200), probability=T, main=\"\",xlab=\"Fréquence cardiaque maximale\")\n",
    "boxplot(heart[,\"FreqM\"], horizontal=TRUE,boxwex=.01,  outline=TRUE,  \n",
    "        ylim=c(70,200), frame=F, col = \"lightgrey\", add = TRUE,at=0.005)"
   ]
  },
  {
   "cell_type": "markdown",
   "metadata": {},
   "source": [
    "**Q** Que représente ce graphe? Commentaires? "
   ]
  },
  {
   "cell_type": "code",
   "execution_count": null,
   "metadata": {},
   "outputs": [],
   "source": [
    "options(repr.plot.width=5, repr.plot.height=5)\n",
    "pairs(heart[,c(1,4,5,8,10)],pch=16,cex=.5)"
   ]
  },
  {
   "cell_type": "markdown",
   "metadata": {},
   "source": [
    "**Q** Que  représentent ces graphes? Commentaires? Quels sont les tests utilisés (hypothèse H0)? Quelles conclusions? Croisez d'autres variables."
   ]
  },
  {
   "cell_type": "code",
   "execution_count": null,
   "metadata": {},
   "outputs": [],
   "source": [
    "par(mar=c(2.1, 2.1, .1, .1))\n",
    "options(repr.plot.width=2, repr.plot.height=2)\n",
    "boxplot(Age~Coro,data=heart,ylab=\"Age\")\n",
    "var.test(Age~Coro,data=heart)\n",
    "t.test(Age~Coro,var.equal=T,data=heart)"
   ]
  },
  {
   "cell_type": "code",
   "execution_count": null,
   "metadata": {},
   "outputs": [],
   "source": [
    "par(mar=c(2.1, 2.1, .1, .1))\n",
    "mosaicplot(table(heart[,\"Sexe\"],heart[,\"Coro\"]),main=\"\")\n",
    "chisq.test(table(heart[,\"Sexe\"],heart[,\"Coro\"]))"
   ]
  },
  {
   "cell_type": "code",
   "execution_count": null,
   "metadata": {},
   "outputs": [],
   "source": [
    "par(mar=c(2.1, 2.1, .1, .1))\n",
    "mosaicplot(table(heart[,\"Sucre\"],heart[,\"Coro\"]),main=\"\")\n",
    "chisq.test(table(heart[,\"Sucre\"],heart[,\"Coro\"]))"
   ]
  },
  {
   "cell_type": "markdown",
   "metadata": {},
   "source": [
    "## 2 Approche multidimensionnelle\n",
    "### 2.1 [Analyse en composantes principales](http://wikistat.fr/pdf/st-m-explo-acp.pdf)\n",
    "\n",
    "**Q** Quelle matrice est diagonalisée? Que signifient les valeurs propres? Que dire des pourcentages associés aux axes? "
   ]
  },
  {
   "cell_type": "code",
   "execution_count": null,
   "metadata": {},
   "outputs": [],
   "source": [
    "summary(heart)"
   ]
  },
  {
   "cell_type": "code",
   "execution_count": null,
   "metadata": {},
   "outputs": [],
   "source": [
    "pca=prcomp(heart[,c(1,4,5,8,10)],scale=TRUE)\n",
    "pca"
   ]
  },
  {
   "cell_type": "code",
   "execution_count": null,
   "metadata": {},
   "outputs": [],
   "source": [
    "pt=15+as.integer(heart$Sexe)\n",
    "pt=16\n",
    "col=as.integer(heart$Coro)\n",
    "par(mar=c(2.1, 2.1, -1, -1)+2)\n",
    "options(repr.plot.width=5, repr.plot.height=5)\n",
    "plot(pca$x,type=\"p\",pch=pt,col=col)\n",
    "legend(\"topright\",c(\"CoA\",\"CoP\"),col=c(1,2),pch=16,title =\"Coro\")\n",
    "text(5*pca$rotation,colnames(heart[,c(1,4,5,8,10)]), col=\"blue\")"
   ]
  },
  {
   "cell_type": "markdown",
   "metadata": {},
   "source": [
    "**Q** Quel est ce graphique ? Que représentent les libellés bleus ? Les points rouges ? Les points noirs ? Comment interpréter la position respective de `Choles` et `PicInd` ? \n",
    "\n",
    "**Q** Comment interpréter l’axe 1? Que montre-t-il sur les individus? L’axe 2?\n",
    "\n",
    "**Q** Comment interpréter la proximité entre `Choles` et l’un des points noirs les plus proches ? L’un des points noirs les plus éloignés ? Qu’est-ce qui justifie cette interprétation ?"
   ]
  },
  {
   "cell_type": "markdown",
   "metadata": {},
   "source": [
    "### 2.2 Préparation des données\n",
    "Des traitements préalables sont nécessaires avant une AFCM; les justifier.\n",
    "\n",
    "**Q** A quoi sert la commande (expliciter les options) : \n",
    "\n",
    "    AgeQ=cut(heart$Age,breaks=quantile(heart$Age,c(0,.33,.67,1)),labels=c(\"AgeA\",\"AgeB\",\"AgeC\"))\n",
    "\n",
    "La même commande est appliquée aux variables Tension, Cholest, FreqM, PicInd et produit les variables TensQ, CholQ, FreQ, PicQ avec les mêmes formes de libellés. "
   ]
  },
  {
   "cell_type": "code",
   "execution_count": null,
   "metadata": {},
   "outputs": [],
   "source": [
    "options(repr.plot.width=2, repr.plot.height=2)\n",
    "par(mar=c(2.1, 2.1, .1, .1))\n",
    "hist(heart$Age, main=\"\")\n",
    "AgeQ=cut(heart$Age,breaks=quantile(heart$Age,c(0,.33,.66,1)),labels=c(\"AgeA\",\"AgeB\",\"AgeC\"),include.lowest = TRUE)"
   ]
  },
  {
   "cell_type": "code",
   "execution_count": null,
   "metadata": {},
   "outputs": [],
   "source": [
    "par(mar=c(2.1, 2.1, .1, .1))\n",
    "pie(table(AgeQ))"
   ]
  },
  {
   "cell_type": "code",
   "execution_count": null,
   "metadata": {},
   "outputs": [],
   "source": [
    "# De façon analogue:\n",
    "TensQ=cut(heart$Tension,breaks=quantile(heart$Tension,c(0,.33,.66,1)),labels=c(\"TensA\",\"TensB\",\"TensC\"),include.lowest = TRUE)\n",
    "CholQ=cut(heart$Cholest,breaks=quantile(heart$Cholest,c(0,.33,.66,1)),labels=c(\"CholA\",\"CholB\",\"CholC\"),include.lowest = TRUE)\n",
    "FreQ=cut(heart$FreqM,breaks=quantile(heart$FreqM,c(0,.33,.66,1)),labels=c(\"FreqA\",\"FreqB\",\"FreqC\"),include.lowest = TRUE)\n",
    "PicQ=cut(heart$PicInd,breaks=quantile(heart$PicInd,c(0,.33,.66,1)),labels=c(\"PicA\",\"PicB\",\"PIcC\"),include.lowest = TRUE)"
   ]
  },
  {
   "cell_type": "code",
   "execution_count": null,
   "metadata": {},
   "outputs": [],
   "source": [
    "heart[heart$Cardio==\"cdB\",\"Cardio\"]=\"cdA\"\n",
    "heart$Cardio=factor(heart$Cardio,exclude=NULL)\n",
    "summary(heart)"
   ]
  },
  {
   "cell_type": "code",
   "execution_count": null,
   "metadata": {},
   "outputs": [],
   "source": [
    "heartT=data.frame(heart,AgeQ,TensQ,CholQ,FreQ,PicQ)\n",
    "summary(heartT)"
   ]
  },
  {
   "cell_type": "markdown",
   "metadata": {},
   "source": [
    "\n",
    "\n",
    "### 2.3 [Analyse factorielle multiple des correspondances](http://wikistat.fr/pdf/st-m-explo-afcm.pdf)\n",
    "Alors que celles-ci sont importantes, les variables qualitatives ne sont pas prises en compte dans l’ACP. D’où l’intérêt de l’analyse suivante. Les variables quantitatives sont retirées, il reste alors 14 variables toutes qualitatives. Pour savoir si, en « aveugle », les autres variables permettent d’expliquer la cible (variable Coro) qui sera l’objet de la modélisation, cette dernière est en supplémentaire. Seules 13 variables actives participent aux analyses."
   ]
  },
  {
   "cell_type": "code",
   "execution_count": null,
   "metadata": {},
   "outputs": [],
   "source": [
    "heartQ=heartT[,-c(1,4,5,8,10)]\n",
    "summary(heartQ)"
   ]
  },
  {
   "cell_type": "markdown",
   "metadata": {},
   "source": [
    "**Q** L’AFCM considère deux matrices à partir de toutes ces variables. Quelles sont-elles? Quelles en sont les dimensions ?\n",
    "\n",
    "**Q** Quelle AFC conduit au résultat ci-dessous. Par quelle ACP équivalente est-il obtenu? \n",
    "\n",
    "**Q** Comparer avec le graphe de l'ACP. Que pouvez-vous dire sur la qualité de séparation des deux classes ? Commentaire."
   ]
  },
  {
   "cell_type": "code",
   "execution_count": null,
   "metadata": {},
   "outputs": [],
   "source": [
    "library(FactoMineR)\n",
    "afc=MCA(heartQ,quali.sup=9,graph=F)\n",
    "par(mar=c(2.1, 2.1, .1, .1))\n",
    "options(repr.plot.width=5, repr.plot.height=5)\n",
    "palette(\"default\")\n",
    "plot(afc$ind$coord,type=\"p\",pch=\".\",cex=8,col=as.integer(heartQ[,9]))\n",
    "legend(\"topright\",c(\"CoA\",\"CoP\"),col=c(1,2),pch=16,title =\"Coro\")"
   ]
  },
  {
   "cell_type": "markdown",
   "metadata": {},
   "source": [
    "**Q** Quelles ACP équivalentes avec quelles métriques (comment sont-elles définies) fournissent le résultat ci-dessous. Que signifient les valeurs dans les légendes des axes. \n",
    "\n",
    "**Q** Quel axe est à prendre en compte pour s’intéresser au risque d’artériosclérose ? Quelles sont les indicateurs de ce risque ? "
   ]
  },
  {
   "cell_type": "code",
   "execution_count": null,
   "metadata": {},
   "outputs": [],
   "source": [
    "afc=MCA(heartQ,quali.sup=9,graph=F)\n",
    "par(mar=c(2.1, 2.1, .1, .1))\n",
    "plot.MCA(afc,invisible=c(\"ind\"),habillage=\"quali\",palette=palette(rainbow(14)),title=\"\")"
   ]
  },
  {
   "cell_type": "markdown",
   "metadata": {},
   "source": [
    "Alors que (cf. analyse bivariée) le risque semble augmenter avec l’âge, ce n’est pas clair sur le graphique de l’AFCM. L’effet de l’interaction Age x Sexe vient compliquer la situation. Pour vérifier, une variable Sexe:Age à 6 modalités est obtenu par croisement pour mieux mettre en évidence la liaison avec la pathologie."
   ]
  },
  {
   "cell_type": "code",
   "execution_count": null,
   "metadata": {},
   "outputs": [],
   "source": [
    "SexAge=heartQ$Sexe:heartQ$AgeQ\n",
    "table(SexAge,heart[,\"Coro\"])\n",
    "par(mar=c(2.1, 2.1, .1, .1))\n",
    "options(repr.plot.width=3, repr.plot.height=3)\n",
    "mosaicplot(table(SexAge,heart[,\"Coro\"]),main=\"\")"
   ]
  },
  {
   "cell_type": "code",
   "execution_count": null,
   "metadata": {},
   "outputs": [],
   "source": [
    "heartQ=data.frame(heartQ,\"SexAge\"=SexAge)\n",
    "summary(heartQ)"
   ]
  },
  {
   "cell_type": "markdown",
   "metadata": {},
   "source": [
    "Les variables Sexe et Age deviennent supplémentaires et l’AFCM produit le graphique cidessous."
   ]
  },
  {
   "cell_type": "code",
   "execution_count": null,
   "metadata": {},
   "outputs": [],
   "source": [
    "options(repr.plot.width=5, repr.plot.height=5)\n",
    "par(mar=c(2.1, 2.1, .1, .1))\n",
    "afc=MCA(heartQ,quali.sup=c(1,9,10),graph = F)\n",
    "plot.MCA(afc,invisible=c(\"ind\"),habillage=\"quali\",palette=palette(rainbow(15)),title=\"\")"
   ]
  },
  {
   "cell_type": "markdown",
   "metadata": {},
   "source": [
    "**Q** Pourquoi ce graphique suggère-t-il de simplifier en considérant 3 modalités de Sexe:Age : Femmes ou hommes jeunes (sHFageA), Hommes plus âgés (sHageBC), Femmes plus âgées (sFageBC)?  "
   ]
  },
  {
   "cell_type": "code",
   "execution_count": null,
   "metadata": {},
   "outputs": [],
   "source": [
    "# regrouper les agés m d'un coté, f de l'autre, les jeunes ensemble\n",
    "SxAg=as.factor(rep(c(\"sHFageA\",\"sFageBC\",\"sHageBC\"),90))\n",
    "SxAg[heartQ$AgeQ==\"AgeA\"]=\"sHFageA\"\n",
    "SxAg[heartQ$SexAge==\"sxF:AgeB\" | heartQ$SexAge==\"sxF:AgeC\"]=\"sFageBC\"\n",
    "SxAg[heartQ$SexAge==\"sxM:AgeB\" | heartQ$SexAge==\"sxM:AgeC\"]=\"sHageBC\"\n",
    "summary(SxAg)\n",
    "table(heartQ[,\"Sexe\"],heartQ[,\"AgeQ\"])"
   ]
  },
  {
   "cell_type": "code",
   "execution_count": null,
   "metadata": {},
   "outputs": [],
   "source": [
    "heartQ2=data.frame(heartQ[,-15],SxAg)\n",
    "summary(heartQ2)"
   ]
  },
  {
   "cell_type": "markdown",
   "metadata": {},
   "source": [
    "**Q** Que deviennent alors les principaux éléments de diagnostic en association avec la pathologie ?"
   ]
  },
  {
   "cell_type": "code",
   "execution_count": null,
   "metadata": {},
   "outputs": [],
   "source": [
    "afc=MCA(heartQ2,quali.sup=c(1,9,10),graph=F)\n",
    "par(mar=c(2.1, 2.1, .1, .1))\n",
    "plot.MCA(afc,invisible=c(\"ind\"),cex=0.8,habillage=\"quali\",palette=palette(rainbow(14)),title=\"\")"
   ]
  },
  {
   "cell_type": "markdown",
   "metadata": {},
   "source": [
    "## 3 [Classification non supervisée](http://wikistat.fr/pdf/st-m-explo-classif.pdf)\n",
    "\n",
    "L’objectif est de construire des classes de patients homogènes à mettre en relation avec les résultats des examens. Cela correspond à un objectif de *profilage* des patients selon leur irsque. Comme précédemment, la variable à expliquer (Coro) n’est pas incluse pour éviter de biaiser les résultats et de bien évaluer le caractère prédictif des variables de diagnostic.\n",
    "\n",
    "**Q** Que représentent les graphiques ci-dessous? Quelle méthode à été employée ? Quelles options et choix sont possibles ? "
   ]
  },
  {
   "cell_type": "code",
   "execution_count": null,
   "metadata": {},
   "outputs": [],
   "source": [
    "res.hcpc=HCPC(afc,method=\"ward\",order=FALSE,nb.clust=3,graph=FALSE)\n",
    "par(mar=c(2.1, 2.1, .1, .1))\n",
    "plot(res.hcpc,choice=\"tree\")"
   ]
  },
  {
   "cell_type": "markdown",
   "metadata": {},
   "source": [
    "**Q** Pourquoi choisir trois classes ? Quelles autres méthodes de classification non supervisée pourraient être employées ? Avec quelle différence majeure ? Commenter les résultats ci-dessous."
   ]
  },
  {
   "cell_type": "code",
   "execution_count": null,
   "metadata": {},
   "outputs": [],
   "source": [
    "options(repr.plot.width=5, repr.plot.height=5)\n",
    "color=as.integer(res.hcpc$data.clust$clust)\n",
    "par(mar=c(2.1, 2.1, .1, .1))\n",
    "plot(afc, c(1,2),choix=\"ind\",cex=0.8,label=\"var\",habillage=\"quali\",col.ind=color,title=\"\")"
   ]
  },
  {
   "cell_type": "code",
   "execution_count": null,
   "metadata": {},
   "outputs": [],
   "source": [
    "options(repr.plot.width=2, repr.plot.height=2)\n",
    "par(mar=c(2.1, 2.1, .1, .1))\n",
    "mosaicplot(table(color,heartQ2[,\"Coro\"]),main=\"\")\n",
    "table(color,heartQ2[,\"Coro\"] )"
   ]
  },
  {
   "cell_type": "markdown",
   "metadata": {},
   "source": [
    "**Q** Que produisent les commandes suivantes? "
   ]
  },
  {
   "cell_type": "code",
   "execution_count": null,
   "metadata": {
    "collapsed": true
   },
   "outputs": [],
   "source": [
    "dist.mod=dist(afc$var$coord, method=\"euclidean\")\n",
    "hclusmod=hclust(dist.mod,method=\"ward.D\")"
   ]
  },
  {
   "cell_type": "markdown",
   "metadata": {},
   "source": [
    "**Q**\tDécrire la strétégie mise en oeuvre ci-dessous."
   ]
  },
  {
   "cell_type": "code",
   "execution_count": null,
   "metadata": {},
   "outputs": [],
   "source": [
    "options(repr.plot.width=2, repr.plot.height=2)\n",
    "par(mar=c(2.1, 2.1, .1, .1))\n",
    "plot(sort(hclusmod$height,decreasing=T)[1:10],ylab=\"\")"
   ]
  },
  {
   "cell_type": "markdown",
   "metadata": {},
   "source": [
    "**Q** Que représente le graphe ci-dessus? Décision?"
   ]
  },
  {
   "cell_type": "code",
   "execution_count": null,
   "metadata": {},
   "outputs": [],
   "source": [
    "hclasmod = cutree(hclusmod,k=4)\n",
    "clas.mod=kmeans(afc$var$coord, 4)\n",
    "kclasmod=clas.mod$cluster\n",
    "# comparaison des classes entre CAH et k-means\n",
    "table(hclasmod,kclasmod)"
   ]
  },
  {
   "cell_type": "code",
   "execution_count": null,
   "metadata": {},
   "outputs": [],
   "source": [
    "# classif des individus\n",
    "dist.ind=dist(afc$ind$coord, method=\"euclidean\")\n",
    "hclusind=hclust(dist.ind,method=\"ward.D\")\n",
    "par(mar=c(2.1, 2.1, .1, .1))\n",
    "plot(sort(hclusind$height,decreasing=T)[1:10],ylab=\"\")"
   ]
  },
  {
   "cell_type": "code",
   "execution_count": null,
   "metadata": {},
   "outputs": [],
   "source": [
    "hclasind = cutree(hclusind,k=3)\n",
    "clas.ind=kmeans(afc$ind$coord, 3)\n",
    "kclasind=clas.ind$cluster\n",
    "# comparaison des classes entre CAH et k-means\n",
    "table(hclasind,kclasind)"
   ]
  },
  {
   "cell_type": "code",
   "execution_count": null,
   "metadata": {},
   "outputs": [],
   "source": [
    "table(kclasind,heartQ2[,\"Coro\"])"
   ]
  },
  {
   "cell_type": "markdown",
   "metadata": {},
   "source": [
    "## 4 Factorisation de matrices non négatives ([NMF](http://wikistat.fr/pdf/st-m-explo-nmf.pdf))"
   ]
  },
  {
   "cell_type": "code",
   "execution_count": null,
   "metadata": {},
   "outputs": [],
   "source": [
    "library(NMF)\n",
    "options(repr.plot.width=6, repr.plot.height=6)\n",
    "aheatmap(t(tab.disjonctif(heartQ2[,-c(1,9,10)])),Rowv=hclusmod,Colv=hclusind,legend=F,annCol=heartQ2[,9])"
   ]
  },
  {
   "cell_type": "markdown",
   "metadata": {},
   "source": [
    "**Q** Que représente le graphe ci-dessus? Quelle interprétation en faire?\n",
    "\n",
    "**Q** Quelles sont les caractéristiques d’un tableau disjonctif complet ? Quelle autre méthode qu’une SVD permet donc sa décomposition ? Quelles sont les différences majeures avec la SVD ?"
   ]
  }
 ],
 "metadata": {
  "kernelspec": {
   "display_name": "R",
   "language": "R",
   "name": "ir"
  },
  "language_info": {
   "codemirror_mode": "r",
   "file_extension": ".r",
   "mimetype": "text/x-r-source",
   "name": "R",
   "pygments_lexer": "r",
   "version": "3.5.1"
  }
 },
 "nbformat": 4,
 "nbformat_minor": 1
}
