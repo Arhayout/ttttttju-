{
 "cells": [
  {
   "cell_type": "markdown",
   "metadata": {},
   "source": [
    "<center>\n",
    "<a href=\"http://www.insa-toulouse.fr/\" ><img src=\"http://www.math.univ-toulouse.fr/~besse/Wikistat/Images/logo-insa.jpg\" style=\"float:left; max-width: 120px; display: inline\" alt=\"INSA\"/></a> \n",
    "\n",
    "<a href=\"http://wikistat.fr/\" ><img src=\"http://www.math.univ-toulouse.fr/~besse/Wikistat/Images/wikistat.jpg\" style=\"float:right; max-width: 250px; display: inline\"  alt=\"Wikistat\"/></a>"
   ]
  },
  {
   "cell_type": "markdown",
   "metadata": {},
   "source": [
    "# [Scénarios d'Exploration Statistique](https://github.com/wikistat/Exploration)"
   ]
  },
  {
   "cell_type": "markdown",
   "metadata": {},
   "source": [
    "# Exploration de données archéologiques en <a href=\"https://cran.r-project.org/\"><img src=\"https://cran.r-project.org/Rlogo.svg\" style=\"max-width: 40px; display: inline\" alt=\"R\"/></a>\n",
    "# Datation de Cachets Hittites"
   ]
  },
  {
   "cell_type": "markdown",
   "metadata": {},
   "source": [
    "**Résumé** \n",
    "Exploration avec R d'un corpus de 118 cachets hittites déctrits par 12 variables plus 160 codant présence / absence de hiéroglyphes. AFCM, arbre de décision, CAH. L'objectif est d'étudier la faisabilité de la prévision de la datation de ces cachets à partir de leur descriptif\n",
    "\n",
    "## Introduction\n",
    "La civilisation hittite s'est développée à partir du XVIIème siècle av. J.-C. sur un vieux fond anatolien lorsqu'une dynastie rassemble sous son autorité la mosaïque de petits états d'Anatolie centrale, installe sa capitale à Hattusa et cherche à pousser son extension jusqu'en Babylonie. Entre 1650 et 1180 av. J.-C. les rois de Hattusa ont dirigé un royaume qui s'étendait sur les plateaux de l'Anatolie centrale et, à plusieurs reprise, jusqu'au nord de la Syrie. Aux côtés de l'Égypte ou de l'Assyrie/Babylonie, les Hittites appartenaient aux grands empires du Proche-Orient. Les Hittites rivalisèrent avec l'Égypte pour la possession de la Syrie: la bataille de Qadesh (vers 1285) entre Muwatalli II et Ramsès II aboutit au statu quo. C'est dans les ruines de leur capitale, Hattusa, qu'ont été découverts des milliers de textes cunéiformes qui constituent une mine d'informations pour reconstruire l'histoire de la deuxième moitié du IIème millénaire av. J.-C.\n",
    "\n",
    "Les données (Strupler, 2016) proviennent d'un corpus d'objets archéologiques datés de la période du Bronze récent (1650-1180 av. J.-C.) et découverts dans la capitale de l'Empire hittite, Hattusa, en Anatolie centrale. Il s'agit de la description de cachets qui ont appartenu aux fonctionnaires et aux princes du royaume. Les cachets gravés en creux du nom, des titres et d'emblèmes servent à sceller des objets pour en attester l'authenticité et en contrôler l'ouverture. Chaque cachet est unique, identifiable par sa légende et son iconographie. Le corpus est constitué des cachets non royaux et circulaires découverts dans la capitale.\n",
    "\n",
    "Tous les cachets circulaires ont été réalisés selon le même modèle avec une plage centrale et des bordures circulaires. La plage centrale se compose d'une inscription en louvite hiéroglyphique mentionnant le nom puis éventuellement le titre du propriétaire accompagné de divers motifs. Les bordures circulaires, simples ou concentriques peuvent être garnies de hiéroglyphes, de représentations humaines ou bien de motifs décoratifs. Seul un échantillon du corpus (118 individus) a été sélectionné et compilé. Les objets archéologiques, lorsqu'ils sont découverts dans un contexte dit \"fermé\" peuvent être datés à l'aide des autres objets associés ou bien, par exemple, grâce à une datation radiocarbone. On peut ordonner chronologiquement les objets qui ne sont pas datés par leur contexte de découvertes en les comparant aux objets dont on connait la datation à l'aide d'une typologie. Parmi les cachets du corpus, un premier groupe représente les sceaux appartenant à la période de l'Ancien royaume hittite (16ème-15ème siècle av. J.-C.), un groupe intermédiaire correspond au début de l'Empire hittite (14ème siècle av. J.-C.), un troisième groupe correspond à la fin de l'Empire hittite (13ème siècle av. J.-C.). Enfin un dernier groupe comprend les sceaux de datation inconnue.\n",
    "\n",
    "![Cachet](cachet.PNG)\n",
    "\n",
    "La figure ci-dessus donne un exemple de la prise en compte de certaines observations recueillies lors de quatre campagnes de fouilles. Ce sceau G.57, à la surface convexe, possède une plage centrale délimitée par une ligne simple ainsi qu'une plage extérieure décorée de symboles. Les quatre hiéroglyphes du nom sont encadrés du titre (organisation \"T-N-T\"). Le propriétaire est un fonctionnaire (scribe).\n",
    "\n",
    "L’objectif de ce travail exploratoire est d’étudié la capacité de datation des cachets à partir de quelques variables observées sur les cachets dont seuls 60 sont datés sur les 118. Sera-t-il possible de dater des 58 restants ? Et donc d’utiliser pas la suite ces informations pour mieux dater les différentes strates des fouilles. Un modèle simple d'[arbre de décision](http://wikistat.fr/pdf/st-m-app-cart.pdf) est estimé sur ces données \n",
    "\n",
    "Une première étape de préparation des données a permis d’extraire un nombre réduit de variables en regroupant « au mieux » les caractéristiques de certaines modalités. Par souci de simplification, des variables (hiéroglyphe, hiéroglyphe titre, symbole) ont été traduites en variables dichotomiques de présence / absence de 106 hiéroglyphes et symboles parmi ceux identifiables. Les cachets sont finalement décrits par les variables du tableau ci-dessous:\n",
    "\n",
    "\n",
    "Libellé  |  Ensemble de valeurs \n",
    "-------- | --------------------\n",
    "Label | Identifiant du cachet\n",
    "Mission | Origine, lieu et date de la découverte. Cette variable n’est pas utilisée.\n",
    "orgaH | Organisation: `Atyp`, `Centre`, `Doubl`, `Quinc`, `OrTNT`\n",
    "nbPlExt | Nombre de plages extérieures: 0 à 2\n",
    "Deco | Type de décor de la plage extérieure : `DecNo`, `Ornem`, `HierSym`, `Figur`, `Anim` \n",
    "delCentre | Délimitation: `Aucune`, `Ligne`, `FrisRec`, `FrisTor` \n",
    "Datation | `DatInc`, `16-15e`, `14e`, `13e`\n",
    "diamExt | `ext1, ext2, ext3` (classes d’effectifs égaux)\n",
    "diamInt | `int1, int2, int3` (classes d’effectifs égaux)\n",
    "Titre | `TitrNo, TitrInc, Prince, Fonct` (fonctionnaire ou scribe)\n",
    "nbHier | Nombre de hiéroglyphes 1 à 9\n",
    "nbSymb | Nombre de symboles de 1 à 9\n",
    "Surface | `Plate, Convexe, Etage` (étagée) \n",
    "\n",
    "A ces variables s’ajoutent les 160 de présences / absence des symboles ou hiéroglyphes identifiés.\n",
    "\n",
    "### Référence\n",
    "\n",
    "Strupler N. (2016). [\"Dater d'après le cachet\"](https://hal.archives-ouvertes.fr/hal-01485166v1) Une approche méthodologique pour les cachets circulaires hittites, J. Patrier, P. Quenet, P. Butterlin  *Milles et une empreintes. Un Alsacien en Orient*.  Mélanges en l'honneur du 65e anniversaire de Dominique Beyer, 2016, 978-2-503-54926-2. <hal-01485166>\n",
    "\n",
    "**Aidez-vous des résultats et figures pour répondre aux questions**:\n",
    "\n",
    "**Q** Quelle est la population concernée et l’échantillon étudié."
   ]
  },
  {
   "cell_type": "markdown",
   "metadata": {},
   "source": [
    "## Lecture des données \n",
    "\n",
    "Les données sont dans le fichier `cachet.dat` chargé dans le même répertoire avec ce calepin."
   ]
  },
  {
   "cell_type": "code",
   "execution_count": null,
   "metadata": {
    "collapsed": true
   },
   "outputs": [],
   "source": [
    "cachetsModif <- read.table(\"Cachets.dat\")"
   ]
  },
  {
   "cell_type": "markdown",
   "metadata": {},
   "source": [
    "Vérifier la bonne lecture des données."
   ]
  },
  {
   "cell_type": "code",
   "execution_count": null,
   "metadata": {},
   "outputs": [],
   "source": [
    "summary(cachetsModif[,1:13])"
   ]
  },
  {
   "cell_type": "markdown",
   "metadata": {},
   "source": [
    "D'autres variables n(ont pas été prises en compte. \n",
    "\n",
    "**Q** Que représente la figure ci-dessous? Commenter."
   ]
  },
  {
   "cell_type": "code",
   "execution_count": null,
   "metadata": {},
   "outputs": [],
   "source": [
    "par(mfrow=c(1,2))\n",
    "options(repr.plot.width=5, repr.plot.height=4)\n",
    "boxplot(cachetsModif$Dm.ext.num, main=\"Dimension extérieure\")\n",
    "abline(h=mean(cachetsModif$Dm.ext.num),col=\"red\")\n",
    "boxplot(cachetsModif$Dm.int.num, main=\"Dimension intérieure\")\n",
    "abline(h=mean(cachetsModif$Dm.int.num),col=\"red\")"
   ]
  },
  {
   "cell_type": "markdown",
   "metadata": {},
   "source": [
    "**Q** Que représente la figure ci-dessous. Commenter. "
   ]
  },
  {
   "cell_type": "code",
   "execution_count": null,
   "metadata": {},
   "outputs": [],
   "source": [
    "par(mfrow=c(1,2))\n",
    "options(repr.plot.width=8, repr.plot.height=3)\n",
    "barplot(table(cachetsModif$Surface), main=\"Surface\")\n",
    "barplot(table(cachetsModif$Datation), main= \"Datation\")"
   ]
  },
  {
   "cell_type": "markdown",
   "metadata": {},
   "source": [
    "**Q** Quel est le tableau ci-dessous ? En quoi est-ce important de ne pas intégrer le responsable de la fouille dans les analyses."
   ]
  },
  {
   "cell_type": "code",
   "execution_count": null,
   "metadata": {},
   "outputs": [],
   "source": [
    "table(cachetsModif$Mission,cachetsModif$Datation)"
   ]
  },
  {
   "cell_type": "markdown",
   "metadata": {},
   "source": [
    "**Q** Que représente la figure ci-dessous? Qu’en déduire ?"
   ]
  },
  {
   "cell_type": "code",
   "execution_count": null,
   "metadata": {},
   "outputs": [],
   "source": [
    "options(repr.plot.width=4, repr.plot.height=4)\n",
    "mosaicplot(table(cachetsModif$Datation,cachetsModif$diamInt), main=\"\")"
   ]
  },
  {
   "cell_type": "markdown",
   "metadata": {},
   "source": [
    "**Q** Pourquoi les variables de dimensions intérieures et extérieures ont-elles été transformées en variables qualitatives?  Comment sont généralement choisies les bornes des classes? \n",
    "\n",
    "Dans tout ce qui suit, les cachets de date inconnue sont supprimés ou mis en supplémentaire. Sous ensemble des données pour lesquelles les dates sont connues."
   ]
  },
  {
   "cell_type": "code",
   "execution_count": null,
   "metadata": {},
   "outputs": [],
   "source": [
    "cachDat=cachetsModif[cachetsModif[,7]!=\"DatInc\",3:13]\n",
    "summary(cachDat)"
   ]
  },
  {
   "cell_type": "markdown",
   "metadata": {},
   "source": [
    "**Q** Quel est l’effet des commandes suivantes sur le data.frame cahDat ? En quoi est-ce important avant de faire une analyse factorielle des correspondances ?"
   ]
  },
  {
   "cell_type": "code",
   "execution_count": null,
   "metadata": {},
   "outputs": [],
   "source": [
    "cachDat[as.integer(cachDat$nbHier)>=7,\"nbHier\"]=7\n",
    "cachDat[as.integer(cachDat$nbHier)<=2,\"nbHier\"]=2\n",
    "cachDat[cachDat$orgaH==\"Centre\",\"orgaH\"]=\"Atyp\"\n",
    "cachDat[cachDat$Deco==\"Figur\",\"Deco\"]=\"Ornem\"\n",
    "cachDat$delCentre=factor(cachDat$delCentre,levels=c(levels(cachDat$delCentre),\"Frise\"))\n",
    "cachDat[cachDat$delCentre==\"FrisTor\",\"delCentre\"]=\"Frise\"\n",
    "cachDat[cachDat$delCentre==\"FrisRec\",\"delCentre\"]=\"Frise\"\n",
    "cachDat[as.integer(cachDat$nbSym)>=3,\"nbSym\"]=3\n",
    "cachDat=droplevels(cachDat)\n",
    "\n",
    "# Transformation des types en facteurs\n",
    "cachDat<- as.data.frame(lapply(cachDat, as.factor))\n",
    "summary(cachDat)"
   ]
  },
  {
   "cell_type": "markdown",
   "metadata": {},
   "source": [
    "## Analyse factorielle des correspondances multiple (AFCM)\n",
    "\n",
    "**Q** La commande de la librairie FactoMineR ci-dessous est exécutée. De quelle matrice calcule-t-elle l’analyse des correspondances? Quelles sont ses dimensions? Quelle est la signification du paramètre  `quali.sup` et pourquoi `5`?"
   ]
  },
  {
   "cell_type": "code",
   "execution_count": null,
   "metadata": {},
   "outputs": [],
   "source": [
    "library(FactoMineR)\n",
    "afcm=MCA(cachDat, quali.sup =5, graph= F)\n",
    "options(repr.plot.width=8, repr.plot.height=8)\n",
    "plot(afcm,invisible =\"ind\", habillage=\"quali\",title=\"\")"
   ]
  },
  {
   "cell_type": "markdown",
   "metadata": {},
   "source": [
    "**Q** Que représente la figure ci-dessus? Que signifient les légendes sur chacun des axes? Quelles sont les caractéristiques majeures des cachets des différentes périodes?\n",
    "\n",
    "**Q** Quelle AFC, quelle analyse en composantes principales donneraient les résultats de la figure ci-dessous? Quelle décomposition en valeurs singulières?\n",
    "\n",
    "**Q** Que dire sur l’objectif de discrimination des périodes?"
   ]
  },
  {
   "cell_type": "code",
   "execution_count": null,
   "metadata": {},
   "outputs": [],
   "source": [
    "plot(afcm, choix=\"ind\", invisible = \"var\", habillage=\"quali\",col.ind=as.factor(cachDat$Datation),title=\"\")"
   ]
  },
  {
   "cell_type": "markdown",
   "metadata": {},
   "source": [
    "**Q** Expliquer que sont chacun des tableaux ci-dessous."
   ]
  },
  {
   "cell_type": "code",
   "execution_count": null,
   "metadata": {},
   "outputs": [],
   "source": [
    "summary(afcm)"
   ]
  },
  {
   "cell_type": "markdown",
   "metadata": {},
   "source": [
    "## Classification non supervisée"
   ]
  },
  {
   "cell_type": "markdown",
   "metadata": {
    "collapsed": true
   },
   "source": [
    "**Q** Qu’est-ce que les commandes ci-dessous exécutent ? Sur quelle matrice ? Quel est le graphe produit? Quelle décision en déduire (justifier)?"
   ]
  },
  {
   "cell_type": "code",
   "execution_count": null,
   "metadata": {},
   "outputs": [],
   "source": [
    "res.hcpc <- HCPC(afcm, graph=F)\n",
    "options(repr.plot.width=6, repr.plot.height=4)\n",
    "plot(res.hcpc,choice=\"bar\",title=\"\")"
   ]
  },
  {
   "cell_type": "markdown",
   "metadata": {},
   "source": [
    "**Q** Quel est le graphe ci-dessous? Comment les rectangles colorés sont-ils construits ?"
   ]
  },
  {
   "cell_type": "code",
   "execution_count": null,
   "metadata": {},
   "outputs": [],
   "source": [
    "options(repr.plot.width=6, repr.plot.height=6)\n",
    "plot(res.hcpc,choice=\"tree\",tree.barplot=F,main=\"\")"
   ]
  },
  {
   "cell_type": "markdown",
   "metadata": {},
   "source": [
    "**Q** Qu’est ce que la table ci-dessous ? Interpréter."
   ]
  },
  {
   "cell_type": "code",
   "execution_count": null,
   "metadata": {},
   "outputs": [],
   "source": [
    "table(res.hcpc$data.clust$clust, cachDat[,5])"
   ]
  },
  {
   "cell_type": "markdown",
   "metadata": {},
   "source": [
    "## Classification supervisée\n",
    "Une utilisation élémentaire d’un algorithme d’apprentissage ([arbre binaire de décision](http://wikistat.fr/pdf/st-m-app-cart.pdf) permet de construire un arbre simple mais efficace pour prévoir la Datation. Ce modèle est facile à appliquer aux cachets dont la datation est inconnue. \n",
    "\n",
    "**Q** Comment interpréter cet arbre ?"
   ]
  },
  {
   "cell_type": "code",
   "execution_count": null,
   "metadata": {},
   "outputs": [],
   "source": [
    "library(rpart)\n",
    "tree=rpart(Datation~.,data=cachDat)\n",
    "library(partykit)\n",
    "plot(as.party(tree))"
   ]
  },
  {
   "cell_type": "markdown",
   "metadata": {},
   "source": [
    "Les étapes précédentes montrent une association assez nette entre les caractéristiques relevées des cachets et leur datation au point d’en déduire une règle simple de prévision de cette datation. Le même type d’approche est maintenant mise en œuvre en considérant les identifications de symboles ou hiéroglyphes spécifique. "
   ]
  },
  {
   "cell_type": "code",
   "execution_count": null,
   "metadata": {},
   "outputs": [],
   "source": [
    "# table des symboles et hiéroglyphes pour les cachets datés\n",
    "hierSymb=cachetsModif[cachetsModif[,7]!=\"DatInc\",c(7,17:176)]\n",
    "dim(hierSymb)"
   ]
  },
  {
   "cell_type": "markdown",
   "metadata": {},
   "source": [
    "Les données initiales concernent la présence / absence de **160 hiérogliphes** ou symboles, c’est trop au regard du nombre de cachets datés. Les commandes ci-dessous réduisent le nombre de colonnes ou symboles considérés à ceux présents au moins quatre fois dans la base."
   ]
  },
  {
   "cell_type": "code",
   "execution_count": null,
   "metadata": {},
   "outputs": [],
   "source": [
    "selec=as.vector(lapply(lapply(hierSymb,as.integer),sum)>4)\n",
    "HierSymbSel=hierSymb[,selec]\n",
    "dim(HierSymbSel)"
   ]
  },
  {
   "cell_type": "markdown",
   "metadata": {},
   "source": [
    "**Q** Que devient la dimension de la matrice dont il faut faire la SVD pour obtenir l’AFC de ces variables?"
   ]
  },
  {
   "cell_type": "code",
   "execution_count": null,
   "metadata": {},
   "outputs": [],
   "source": [
    "HierSymbSel=as.data.frame(lapply(HierSymbSel, as.factor))\n",
    "HierSymbSel=droplevels(HierSymbSel)\n",
    "summary(HierSymbSel)"
   ]
  },
  {
   "cell_type": "code",
   "execution_count": null,
   "metadata": {},
   "outputs": [],
   "source": [
    "afcm.symb=MCA(HierSymbSel,quali.sup =1, graph= F)\n",
    "plot(afcm.symb, choix=\"ind\", habillage=\"quali\", invisible=\"ind\",title=\"\")"
   ]
  },
  {
   "cell_type": "markdown",
   "metadata": {},
   "source": [
    "**Q** Le graphe obtenu est rendu assez illisible à cause des libellés trop longs. Que dire de la discriminaiton des dates à partir des seuls symboles et hiéroglyphes en considérant le graphe ci-dessous."
   ]
  },
  {
   "cell_type": "code",
   "execution_count": null,
   "metadata": {},
   "outputs": [],
   "source": [
    "plot(afcm.symb, choix=\"ind\", habillage=\"quali\", invisible=\"var\",title=\"\",col.ind=as.factor(cachDat$Datation))"
   ]
  },
  {
   "cell_type": "code",
   "execution_count": null,
   "metadata": {
    "scrolled": true
   },
   "outputs": [],
   "source": [
    "options(repr.plot.width=8, repr.plot.height=5)\n",
    "treeS=rpart(Datation~.,data=HierSymbSel)\n",
    "plot(as.party(treeS))"
   ]
  },
  {
   "cell_type": "markdown",
   "metadata": {},
   "source": [
    "**Q** Comme précédemment, un arbre binaire de décision est ajusté sur ces données.  Que dire de sa capacité à discriminer les trois périodes ? De son interprétabilité (1 pour présence, 0, pour absence) ?"
   ]
  }
 ],
 "metadata": {
  "kernelspec": {
   "display_name": "R",
   "language": "R",
   "name": "ir"
  },
  "language_info": {
   "codemirror_mode": "r",
   "file_extension": ".r",
   "mimetype": "text/x-r-source",
   "name": "R",
   "pygments_lexer": "r",
   "version": "3.5.1"
  }
 },
 "nbformat": 4,
 "nbformat_minor": 1
}
